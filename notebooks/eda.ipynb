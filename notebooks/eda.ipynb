{
 "cells": [
  {
   "cell_type": "code",
   "execution_count": 1,
   "metadata": {
    "collapsed": true
   },
   "outputs": [],
   "source": [
    "import pandas as pd"
   ]
  },
  {
   "cell_type": "code",
   "execution_count": 4,
   "outputs": [],
   "source": [
    "df = pd.read_csv(\"../backend/data/cars.csv\", delimiter='\\t')"
   ],
   "metadata": {
    "collapsed": false,
    "pycharm": {
     "name": "#%%\n"
    }
   }
  },
  {
   "cell_type": "code",
   "execution_count": 5,
   "outputs": [
    {
     "data": {
      "text/plain": "                                         description wheel_drive    year  \\\n0  Owned since Jan 14, one previous owner from ne...         RHD  1993.0   \n1  One previous owner before myself, grey seats, ...         RHD  1991.0   \n2                   1970 Lamborghini Espada Series 2         RHD  1970.0   \n3  To Be OFFERED AT AUCTION at RM Sothebys' Palm ...         RHD  1886.0   \n4  To Be OFFERED AT AUCTION WITHOUT RESERVE at RM...         RHD  1974.0   \n\n      model gearbox                        title    price     refcode     run  \\\n0      Jive  Manual              CITROEN AX Jive    3,500  DIY1190431  35,457   \n1       NaN  Manual                   ROVER MINI    6,000  DIY1189982  24,000   \n2  Series 2  Manual  LAMBORGHINI ESPADA Series 2  113,950   TA1186027  57,585   \n3       NaN     NaN              BENZ MOTORWAGEN  Auction   TA1191072       0   \n4    GT4 BB     NaN           FERRARI 365 GT4 BB  Auction   TA1191071       0   \n\n   phone  \n0    NaN  \n1    NaN  \n2    NaN  \n3    NaN  \n4    NaN  ",
      "text/html": "<div>\n<style scoped>\n    .dataframe tbody tr th:only-of-type {\n        vertical-align: middle;\n    }\n\n    .dataframe tbody tr th {\n        vertical-align: top;\n    }\n\n    .dataframe thead th {\n        text-align: right;\n    }\n</style>\n<table border=\"1\" class=\"dataframe\">\n  <thead>\n    <tr style=\"text-align: right;\">\n      <th></th>\n      <th>description</th>\n      <th>wheel_drive</th>\n      <th>year</th>\n      <th>model</th>\n      <th>gearbox</th>\n      <th>title</th>\n      <th>price</th>\n      <th>refcode</th>\n      <th>run</th>\n      <th>phone</th>\n    </tr>\n  </thead>\n  <tbody>\n    <tr>\n      <th>0</th>\n      <td>Owned since Jan 14, one previous owner from ne...</td>\n      <td>RHD</td>\n      <td>1993.0</td>\n      <td>Jive</td>\n      <td>Manual</td>\n      <td>CITROEN AX Jive</td>\n      <td>3,500</td>\n      <td>DIY1190431</td>\n      <td>35,457</td>\n      <td>NaN</td>\n    </tr>\n    <tr>\n      <th>1</th>\n      <td>One previous owner before myself, grey seats, ...</td>\n      <td>RHD</td>\n      <td>1991.0</td>\n      <td>NaN</td>\n      <td>Manual</td>\n      <td>ROVER MINI</td>\n      <td>6,000</td>\n      <td>DIY1189982</td>\n      <td>24,000</td>\n      <td>NaN</td>\n    </tr>\n    <tr>\n      <th>2</th>\n      <td>1970 Lamborghini Espada Series 2</td>\n      <td>RHD</td>\n      <td>1970.0</td>\n      <td>Series 2</td>\n      <td>Manual</td>\n      <td>LAMBORGHINI ESPADA Series 2</td>\n      <td>113,950</td>\n      <td>TA1186027</td>\n      <td>57,585</td>\n      <td>NaN</td>\n    </tr>\n    <tr>\n      <th>3</th>\n      <td>To Be OFFERED AT AUCTION at RM Sothebys' Palm ...</td>\n      <td>RHD</td>\n      <td>1886.0</td>\n      <td>NaN</td>\n      <td>NaN</td>\n      <td>BENZ MOTORWAGEN</td>\n      <td>Auction</td>\n      <td>TA1191072</td>\n      <td>0</td>\n      <td>NaN</td>\n    </tr>\n    <tr>\n      <th>4</th>\n      <td>To Be OFFERED AT AUCTION WITHOUT RESERVE at RM...</td>\n      <td>RHD</td>\n      <td>1974.0</td>\n      <td>GT4 BB</td>\n      <td>NaN</td>\n      <td>FERRARI 365 GT4 BB</td>\n      <td>Auction</td>\n      <td>TA1191071</td>\n      <td>0</td>\n      <td>NaN</td>\n    </tr>\n  </tbody>\n</table>\n</div>"
     },
     "execution_count": 5,
     "metadata": {},
     "output_type": "execute_result"
    }
   ],
   "source": [
    "df.head()\n"
   ],
   "metadata": {
    "collapsed": false,
    "pycharm": {
     "name": "#%%\n"
    }
   }
  }
 ],
 "metadata": {
  "kernelspec": {
   "display_name": "Python 3",
   "language": "python",
   "name": "python3"
  },
  "language_info": {
   "codemirror_mode": {
    "name": "ipython",
    "version": 2
   },
   "file_extension": ".py",
   "mimetype": "text/x-python",
   "name": "python",
   "nbconvert_exporter": "python",
   "pygments_lexer": "ipython2",
   "version": "2.7.6"
  }
 },
 "nbformat": 4,
 "nbformat_minor": 0
}